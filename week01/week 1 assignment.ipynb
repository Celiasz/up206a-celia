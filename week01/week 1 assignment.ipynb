{
 "cells": [
  {
   "cell_type": "code",
   "execution_count": 1,
   "id": "5461c96b-0128-4f06-bc30-6de80f5efcd0",
   "metadata": {},
   "outputs": [],
   "source": [
    "# Introduction "
   ]
  },
  {
   "cell_type": "code",
   "execution_count": 2,
   "id": "a3cf9047-cddd-46e2-9fca-ebcd576eaeb4",
   "metadata": {},
   "outputs": [],
   "source": [
    "# In this section, I will be looking at existing cooling centers in Los Angeles County. This will be able to inform me as the baseline for existing cooling centers and will inform me on where the newly proposed cooling centers should be built or designated once more extreme heat events are prevalent by 2040. "
   ]
  },
  {
   "cell_type": "code",
   "execution_count": 3,
   "id": "17b68730-30b2-4d79-b844-9e0c5664b7f0",
   "metadata": {},
   "outputs": [],
   "source": [
    "# This data has been gathered from Los Angeles County's Open Data website. "
   ]
  },
  {
   "cell_type": "code",
   "execution_count": 4,
   "id": "79bdcc02-e217-4cd3-87f2-9f2f7652552d",
   "metadata": {},
   "outputs": [],
   "source": [
    "# Data Exploration"
   ]
  },
  {
   "cell_type": "code",
   "execution_count": 5,
   "id": "a61cdb0b-ed05-4442-9010-7021e6ba2ffd",
   "metadata": {},
   "outputs": [],
   "source": [
    "# Step 1: Integrate geopandas so I can map the spatial data. "
   ]
  },
  {
   "cell_type": "code",
   "execution_count": 6,
   "id": "ffab720b-5954-4fae-8953-c14e99c822aa",
   "metadata": {},
   "outputs": [],
   "source": [
    "import geopandas as gpd"
   ]
  },
  {
   "cell_type": "code",
   "execution_count": 7,
   "id": "4714e012-2472-41a0-b19a-d420db6ba75c",
   "metadata": {},
   "outputs": [],
   "source": [
    "# Step 2: Import the zipped data. "
   ]
  },
  {
   "cell_type": "code",
   "execution_count": 8,
   "id": "d92409a9-982e-4fb3-a5d9-b1e5a49b522d",
   "metadata": {},
   "outputs": [],
   "source": [
    "cooling_centers_2019 = gpd.read_file('data/Cooling_Centers_in_LA_County_2019.zip')"
   ]
  },
  {
   "cell_type": "code",
   "execution_count": 10,
   "id": "d71c48f3-95f5-400e-a67f-2ddef2d7e080",
   "metadata": {},
   "outputs": [],
   "source": [
    "# Step 3: Learn what data type it is. "
   ]
  },
  {
   "cell_type": "code",
   "execution_count": 11,
   "id": "82659387-f808-4b56-ad5f-e6deca1774dd",
   "metadata": {},
   "outputs": [
    {
     "data": {
      "text/plain": [
       "geopandas.geodataframe.GeoDataFrame"
      ]
     },
     "execution_count": 11,
     "metadata": {},
     "output_type": "execute_result"
    }
   ],
   "source": [
    "type(cooling_centers_2019)"
   ]
  },
  {
   "cell_type": "code",
   "execution_count": 12,
   "id": "be867ce8-0cf0-44bd-a140-209cd47dc9c8",
   "metadata": {},
   "outputs": [],
   "source": [
    "# Step 4: Figuring out the first 5 sets of data. "
   ]
  },
  {
   "cell_type": "code",
   "execution_count": 13,
   "id": "d720a807-e3bf-40b9-aaf3-8c30d9d36a6a",
   "metadata": {},
   "outputs": [
    {
     "data": {
      "text/html": [
       "<div>\n",
       "<style scoped>\n",
       "    .dataframe tbody tr th:only-of-type {\n",
       "        vertical-align: middle;\n",
       "    }\n",
       "\n",
       "    .dataframe tbody tr th {\n",
       "        vertical-align: top;\n",
       "    }\n",
       "\n",
       "    .dataframe thead th {\n",
       "        text-align: right;\n",
       "    }\n",
       "</style>\n",
       "<table border=\"1\" class=\"dataframe\">\n",
       "  <thead>\n",
       "    <tr style=\"text-align: right;\">\n",
       "      <th></th>\n",
       "      <th>match_addr</th>\n",
       "      <th>x</th>\n",
       "      <th>y</th>\n",
       "      <th>category</th>\n",
       "      <th>layer</th>\n",
       "      <th>geometry</th>\n",
       "    </tr>\n",
       "  </thead>\n",
       "  <tbody>\n",
       "    <tr>\n",
       "      <th>0</th>\n",
       "      <td>3916 S Western Ave, Los Angeles, CA 90062, USA</td>\n",
       "      <td>-118.308546</td>\n",
       "      <td>34.013922</td>\n",
       "      <td>City of LA Recreation Center</td>\n",
       "      <td>la_city_recreation_centers</td>\n",
       "      <td>POINT (-118.30855 34.01392)</td>\n",
       "    </tr>\n",
       "    <tr>\n",
       "      <th>1</th>\n",
       "      <td>1450 N Avalon Blvd, Wilmington, CA 90744, USA</td>\n",
       "      <td>-118.262506</td>\n",
       "      <td>33.792708</td>\n",
       "      <td>City of LA Pool</td>\n",
       "      <td>la_city_year-round_pools</td>\n",
       "      <td>POINT (-118.26251 33.79271)</td>\n",
       "    </tr>\n",
       "    <tr>\n",
       "      <th>2</th>\n",
       "      <td>3250 San Marino St, Los Angeles, CA 90006, USA</td>\n",
       "      <td>-118.301764</td>\n",
       "      <td>34.054214</td>\n",
       "      <td>City of LA Recreation Center</td>\n",
       "      <td>la_city_recreation_centers</td>\n",
       "      <td>POINT (-118.30176 34.05421)</td>\n",
       "    </tr>\n",
       "    <tr>\n",
       "      <th>3</th>\n",
       "      <td>769 W 3rd St, San Pedro, CA 90731, USA</td>\n",
       "      <td>-118.293803</td>\n",
       "      <td>33.741255</td>\n",
       "      <td>LA County Cooling Center</td>\n",
       "      <td>coolingcenters</td>\n",
       "      <td>POINT (-118.29380 33.74126)</td>\n",
       "    </tr>\n",
       "    <tr>\n",
       "      <th>4</th>\n",
       "      <td>1020 Fair Oaks Ave, Pasadena, CA 91103, USA</td>\n",
       "      <td>-118.150247</td>\n",
       "      <td>34.163638</td>\n",
       "      <td>LA County Cooling Center</td>\n",
       "      <td>coolingcenters</td>\n",
       "      <td>POINT (-118.15025 34.16364)</td>\n",
       "    </tr>\n",
       "  </tbody>\n",
       "</table>\n",
       "</div>"
      ],
      "text/plain": [
       "                                       match_addr           x          y  \\\n",
       "0  3916 S Western Ave, Los Angeles, CA 90062, USA -118.308546  34.013922   \n",
       "1   1450 N Avalon Blvd, Wilmington, CA 90744, USA -118.262506  33.792708   \n",
       "2  3250 San Marino St, Los Angeles, CA 90006, USA -118.301764  34.054214   \n",
       "3          769 W 3rd St, San Pedro, CA 90731, USA -118.293803  33.741255   \n",
       "4     1020 Fair Oaks Ave, Pasadena, CA 91103, USA -118.150247  34.163638   \n",
       "\n",
       "                       category                       layer  \\\n",
       "0  City of LA Recreation Center  la_city_recreation_centers   \n",
       "1               City of LA Pool    la_city_year-round_pools   \n",
       "2  City of LA Recreation Center  la_city_recreation_centers   \n",
       "3      LA County Cooling Center              coolingcenters   \n",
       "4      LA County Cooling Center              coolingcenters   \n",
       "\n",
       "                      geometry  \n",
       "0  POINT (-118.30855 34.01392)  \n",
       "1  POINT (-118.26251 33.79271)  \n",
       "2  POINT (-118.30176 34.05421)  \n",
       "3  POINT (-118.29380 33.74126)  \n",
       "4  POINT (-118.15025 34.16364)  "
      ]
     },
     "execution_count": 13,
     "metadata": {},
     "output_type": "execute_result"
    }
   ],
   "source": [
    "cooling_centers_2019.head()"
   ]
  },
  {
   "cell_type": "code",
   "execution_count": 14,
   "id": "6c48addd-673d-48d6-ae30-7db4b07df845",
   "metadata": {},
   "outputs": [],
   "source": [
    "# Step 5: Figuring out the last 4 sets of data. "
   ]
  },
  {
   "cell_type": "code",
   "execution_count": 15,
   "id": "28601ee2-43ba-448d-b9be-bf8a96a78e8d",
   "metadata": {},
   "outputs": [
    {
     "data": {
      "text/html": [
       "<div>\n",
       "<style scoped>\n",
       "    .dataframe tbody tr th:only-of-type {\n",
       "        vertical-align: middle;\n",
       "    }\n",
       "\n",
       "    .dataframe tbody tr th {\n",
       "        vertical-align: top;\n",
       "    }\n",
       "\n",
       "    .dataframe thead th {\n",
       "        text-align: right;\n",
       "    }\n",
       "</style>\n",
       "<table border=\"1\" class=\"dataframe\">\n",
       "  <thead>\n",
       "    <tr style=\"text-align: right;\">\n",
       "      <th></th>\n",
       "      <th>match_addr</th>\n",
       "      <th>x</th>\n",
       "      <th>y</th>\n",
       "      <th>category</th>\n",
       "      <th>layer</th>\n",
       "      <th>geometry</th>\n",
       "    </tr>\n",
       "  </thead>\n",
       "  <tbody>\n",
       "    <tr>\n",
       "      <th>263</th>\n",
       "      <td>8600 Hazeltine Ave, Panorama City, CA 91402, USA</td>\n",
       "      <td>-118.441685</td>\n",
       "      <td>34.227485</td>\n",
       "      <td>City of LA Recreation Center</td>\n",
       "      <td>la_city_recreation_centers</td>\n",
       "      <td>POINT (-118.44169 34.22748)</td>\n",
       "    </tr>\n",
       "    <tr>\n",
       "      <th>264</th>\n",
       "      <td>7807 Compton Ave, Los Angeles, CA 90001, USA</td>\n",
       "      <td>-118.248003</td>\n",
       "      <td>33.967812</td>\n",
       "      <td>LA County Cooling Center</td>\n",
       "      <td>coolingcenters</td>\n",
       "      <td>POINT (-118.24800 33.96781)</td>\n",
       "    </tr>\n",
       "    <tr>\n",
       "      <th>265</th>\n",
       "      <td>1320 Highland Ave, Manhattan Beach, CA 90266, USA</td>\n",
       "      <td>-118.410379</td>\n",
       "      <td>33.886896</td>\n",
       "      <td>LA County Cooling Center</td>\n",
       "      <td>coolingcenters</td>\n",
       "      <td>POINT (-118.41038 33.88690)</td>\n",
       "    </tr>\n",
       "    <tr>\n",
       "      <th>266</th>\n",
       "      <td>14400 Paramount Blvd, Paramount, CA 90723, USA</td>\n",
       "      <td>-118.157983</td>\n",
       "      <td>33.901232</td>\n",
       "      <td>LA County Cooling Center</td>\n",
       "      <td>coolingcenters</td>\n",
       "      <td>POINT (-118.15798 33.90123)</td>\n",
       "    </tr>\n",
       "    <tr>\n",
       "      <th>267</th>\n",
       "      <td>8701 S St Andrews Pl, Los Angeles, CA 90047, USA</td>\n",
       "      <td>-118.311484</td>\n",
       "      <td>33.959095</td>\n",
       "      <td>City of LA Recreation Center</td>\n",
       "      <td>la_city_recreation_centers</td>\n",
       "      <td>POINT (-118.31148 33.95909)</td>\n",
       "    </tr>\n",
       "  </tbody>\n",
       "</table>\n",
       "</div>"
      ],
      "text/plain": [
       "                                            match_addr           x          y  \\\n",
       "263   8600 Hazeltine Ave, Panorama City, CA 91402, USA -118.441685  34.227485   \n",
       "264       7807 Compton Ave, Los Angeles, CA 90001, USA -118.248003  33.967812   \n",
       "265  1320 Highland Ave, Manhattan Beach, CA 90266, USA -118.410379  33.886896   \n",
       "266     14400 Paramount Blvd, Paramount, CA 90723, USA -118.157983  33.901232   \n",
       "267   8701 S St Andrews Pl, Los Angeles, CA 90047, USA -118.311484  33.959095   \n",
       "\n",
       "                         category                       layer  \\\n",
       "263  City of LA Recreation Center  la_city_recreation_centers   \n",
       "264      LA County Cooling Center              coolingcenters   \n",
       "265      LA County Cooling Center              coolingcenters   \n",
       "266      LA County Cooling Center              coolingcenters   \n",
       "267  City of LA Recreation Center  la_city_recreation_centers   \n",
       "\n",
       "                        geometry  \n",
       "263  POINT (-118.44169 34.22748)  \n",
       "264  POINT (-118.24800 33.96781)  \n",
       "265  POINT (-118.41038 33.88690)  \n",
       "266  POINT (-118.15798 33.90123)  \n",
       "267  POINT (-118.31148 33.95909)  "
      ]
     },
     "execution_count": 15,
     "metadata": {},
     "output_type": "execute_result"
    }
   ],
   "source": [
    "cooling_centers_2019.tail()"
   ]
  },
  {
   "cell_type": "code",
   "execution_count": 16,
   "id": "bf82cd5e-f48e-438d-bc3b-bf514ac25c71",
   "metadata": {},
   "outputs": [],
   "source": [
    "# Step 6: Understanding at type of data I will working with. "
   ]
  },
  {
   "cell_type": "code",
   "execution_count": 17,
   "id": "fe5dbf6b-f5ad-48ad-8980-22fc7d902bb7",
   "metadata": {},
   "outputs": [
    {
     "data": {
      "text/plain": [
       "match_addr      object\n",
       "x              float64\n",
       "y              float64\n",
       "category        object\n",
       "layer           object\n",
       "geometry      geometry\n",
       "dtype: object"
      ]
     },
     "execution_count": 17,
     "metadata": {},
     "output_type": "execute_result"
    }
   ],
   "source": [
    "cooling_centers_2019.dtypes"
   ]
  },
  {
   "cell_type": "code",
   "execution_count": 20,
   "id": "5220efeb-e730-4404-ab4a-53b3c74bcb93",
   "metadata": {},
   "outputs": [],
   "source": [
    "# Step 7: Detailed information about the data lets me know that it is full of addresses and the name of the locations."
   ]
  },
  {
   "cell_type": "code",
   "execution_count": 21,
   "id": "86bbe695-6d8e-4960-89dc-a7ddec3148fa",
   "metadata": {},
   "outputs": [
    {
     "data": {
      "text/plain": [
       "<bound method DataFrame.info of                                             match_addr           x          y  \\\n",
       "0       3916 S Western Ave, Los Angeles, CA 90062, USA -118.308546  34.013922   \n",
       "1        1450 N Avalon Blvd, Wilmington, CA 90744, USA -118.262506  33.792708   \n",
       "2       3250 San Marino St, Los Angeles, CA 90006, USA -118.301764  34.054214   \n",
       "3               769 W 3rd St, San Pedro, CA 90731, USA -118.293803  33.741255   \n",
       "4          1020 Fair Oaks Ave, Pasadena, CA 91103, USA -118.150247  34.163638   \n",
       "..                                                 ...         ...        ...   \n",
       "263   8600 Hazeltine Ave, Panorama City, CA 91402, USA -118.441685  34.227485   \n",
       "264       7807 Compton Ave, Los Angeles, CA 90001, USA -118.248003  33.967812   \n",
       "265  1320 Highland Ave, Manhattan Beach, CA 90266, USA -118.410379  33.886896   \n",
       "266     14400 Paramount Blvd, Paramount, CA 90723, USA -118.157983  33.901232   \n",
       "267   8701 S St Andrews Pl, Los Angeles, CA 90047, USA -118.311484  33.959095   \n",
       "\n",
       "                         category                       layer  \\\n",
       "0    City of LA Recreation Center  la_city_recreation_centers   \n",
       "1                 City of LA Pool    la_city_year-round_pools   \n",
       "2    City of LA Recreation Center  la_city_recreation_centers   \n",
       "3        LA County Cooling Center              coolingcenters   \n",
       "4        LA County Cooling Center              coolingcenters   \n",
       "..                            ...                         ...   \n",
       "263  City of LA Recreation Center  la_city_recreation_centers   \n",
       "264      LA County Cooling Center              coolingcenters   \n",
       "265      LA County Cooling Center              coolingcenters   \n",
       "266      LA County Cooling Center              coolingcenters   \n",
       "267  City of LA Recreation Center  la_city_recreation_centers   \n",
       "\n",
       "                        geometry  \n",
       "0    POINT (-118.30855 34.01392)  \n",
       "1    POINT (-118.26251 33.79271)  \n",
       "2    POINT (-118.30176 34.05421)  \n",
       "3    POINT (-118.29380 33.74126)  \n",
       "4    POINT (-118.15025 34.16364)  \n",
       "..                           ...  \n",
       "263  POINT (-118.44169 34.22748)  \n",
       "264  POINT (-118.24800 33.96781)  \n",
       "265  POINT (-118.41038 33.88690)  \n",
       "266  POINT (-118.15798 33.90123)  \n",
       "267  POINT (-118.31148 33.95909)  \n",
       "\n",
       "[268 rows x 6 columns]>"
      ]
     },
     "execution_count": 21,
     "metadata": {},
     "output_type": "execute_result"
    }
   ],
   "source": [
    "cooling_centers_2019.info"
   ]
  },
  {
   "cell_type": "code",
   "execution_count": 22,
   "id": "89850eef-c330-446f-a346-8be7638160f7",
   "metadata": {},
   "outputs": [],
   "source": [
    "# Step 8: Finding out the number of columns and rows in the data."
   ]
  },
  {
   "cell_type": "code",
   "execution_count": 23,
   "id": "3c49843d-50e0-417d-ac48-9a1d425e4de6",
   "metadata": {},
   "outputs": [
    {
     "data": {
      "text/plain": [
       "(268, 6)"
      ]
     },
     "execution_count": 23,
     "metadata": {},
     "output_type": "execute_result"
    }
   ],
   "source": [
    "cooling_centers_2019.shape"
   ]
  },
  {
   "cell_type": "code",
   "execution_count": 24,
   "id": "6d47f7c5-07c6-405a-a0ba-b11ee562fc6a",
   "metadata": {},
   "outputs": [],
   "source": [
    "# Step 9: We can plot the data to see where the points are located. "
   ]
  },
  {
   "cell_type": "code",
   "execution_count": 25,
   "id": "0c0940fc-939f-400e-abe7-6c610ae2eba1",
   "metadata": {},
   "outputs": [
    {
     "data": {
      "text/plain": [
       "<AxesSubplot:>"
      ]
     },
     "execution_count": 25,
     "metadata": {},
     "output_type": "execute_result"
    },
    {
     "data": {
      "image/png": "[encoded data removed]",
      "text/plain": [
       "<Figure size 432x288 with 1 Axes>"
      ]
     },
     "metadata": {
      "needs_background": "light"
     },
     "output_type": "display_data"
    }
   ],
   "source": [
    "cooling_centers_2019.plot()"
   ]
  },
  {
   "cell_type": "code",
   "execution_count": 30,
   "id": "ad972e32-7017-4e18-90e3-3e16d2cd979d",
   "metadata": {},
   "outputs": [],
   "source": [
    "# Step 10: Understand the categories as to what LA County considers at type of cooling center. Most of them are located at parks."
   ]
  },
  {
   "cell_type": "code",
   "execution_count": 31,
   "id": "2f0b60db-ff58-4f33-95df-09a7a41b9545",
   "metadata": {},
   "outputs": [
    {
     "data": {
      "text/plain": [
       "City of LA Recreation Center    138\n",
       "LA County Cooling Center        113\n",
       "City of LA Pool                  17\n",
       "Name: category, dtype: int64"
      ]
     },
     "execution_count": 31,
     "metadata": {},
     "output_type": "execute_result"
    }
   ],
   "source": [
    "cooling_centers_2019['category'].value_counts()"
   ]
  },
  {
   "cell_type": "code",
   "execution_count": 32,
   "id": "583f2b36-2c10-4070-9dc2-788a423599e4",
   "metadata": {},
   "outputs": [],
   "source": [
    "# Step 11: Now we can filter our data with relevant data. "
   ]
  },
  {
   "cell_type": "code",
   "execution_count": 36,
   "id": "c2bb7e28-e8c7-4d42-9384-bb0795ed9e5b",
   "metadata": {},
   "outputs": [
    {
     "data": {
      "text/html": [
       "<div>\n",
       "<style scoped>\n",
       "    .dataframe tbody tr th:only-of-type {\n",
       "        vertical-align: middle;\n",
       "    }\n",
       "\n",
       "    .dataframe tbody tr th {\n",
       "        vertical-align: top;\n",
       "    }\n",
       "\n",
       "    .dataframe thead th {\n",
       "        text-align: right;\n",
       "    }\n",
       "</style>\n",
       "<table border=\"1\" class=\"dataframe\">\n",
       "  <thead>\n",
       "    <tr style=\"text-align: right;\">\n",
       "      <th></th>\n",
       "      <th>match_addr</th>\n",
       "      <th>category</th>\n",
       "      <th>layer</th>\n",
       "      <th>geometry</th>\n",
       "    </tr>\n",
       "  </thead>\n",
       "  <tbody>\n",
       "    <tr>\n",
       "      <th>0</th>\n",
       "      <td>3916 S Western Ave, Los Angeles, CA 90062, USA</td>\n",
       "      <td>City of LA Recreation Center</td>\n",
       "      <td>la_city_recreation_centers</td>\n",
       "      <td>POINT (-118.30855 34.01392)</td>\n",
       "    </tr>\n",
       "    <tr>\n",
       "      <th>1</th>\n",
       "      <td>1450 N Avalon Blvd, Wilmington, CA 90744, USA</td>\n",
       "      <td>City of LA Pool</td>\n",
       "      <td>la_city_year-round_pools</td>\n",
       "      <td>POINT (-118.26251 33.79271)</td>\n",
       "    </tr>\n",
       "    <tr>\n",
       "      <th>2</th>\n",
       "      <td>3250 San Marino St, Los Angeles, CA 90006, USA</td>\n",
       "      <td>City of LA Recreation Center</td>\n",
       "      <td>la_city_recreation_centers</td>\n",
       "      <td>POINT (-118.30176 34.05421)</td>\n",
       "    </tr>\n",
       "    <tr>\n",
       "      <th>3</th>\n",
       "      <td>769 W 3rd St, San Pedro, CA 90731, USA</td>\n",
       "      <td>LA County Cooling Center</td>\n",
       "      <td>coolingcenters</td>\n",
       "      <td>POINT (-118.29380 33.74126)</td>\n",
       "    </tr>\n",
       "    <tr>\n",
       "      <th>4</th>\n",
       "      <td>1020 Fair Oaks Ave, Pasadena, CA 91103, USA</td>\n",
       "      <td>LA County Cooling Center</td>\n",
       "      <td>coolingcenters</td>\n",
       "      <td>POINT (-118.15025 34.16364)</td>\n",
       "    </tr>\n",
       "    <tr>\n",
       "      <th>...</th>\n",
       "      <td>...</td>\n",
       "      <td>...</td>\n",
       "      <td>...</td>\n",
       "      <td>...</td>\n",
       "    </tr>\n",
       "    <tr>\n",
       "      <th>263</th>\n",
       "      <td>8600 Hazeltine Ave, Panorama City, CA 91402, USA</td>\n",
       "      <td>City of LA Recreation Center</td>\n",
       "      <td>la_city_recreation_centers</td>\n",
       "      <td>POINT (-118.44169 34.22748)</td>\n",
       "    </tr>\n",
       "    <tr>\n",
       "      <th>264</th>\n",
       "      <td>7807 Compton Ave, Los Angeles, CA 90001, USA</td>\n",
       "      <td>LA County Cooling Center</td>\n",
       "      <td>coolingcenters</td>\n",
       "      <td>POINT (-118.24800 33.96781)</td>\n",
       "    </tr>\n",
       "    <tr>\n",
       "      <th>265</th>\n",
       "      <td>1320 Highland Ave, Manhattan Beach, CA 90266, USA</td>\n",
       "      <td>LA County Cooling Center</td>\n",
       "      <td>coolingcenters</td>\n",
       "      <td>POINT (-118.41038 33.88690)</td>\n",
       "    </tr>\n",
       "    <tr>\n",
       "      <th>266</th>\n",
       "      <td>14400 Paramount Blvd, Paramount, CA 90723, USA</td>\n",
       "      <td>LA County Cooling Center</td>\n",
       "      <td>coolingcenters</td>\n",
       "      <td>POINT (-118.15798 33.90123)</td>\n",
       "    </tr>\n",
       "    <tr>\n",
       "      <th>267</th>\n",
       "      <td>8701 S St Andrews Pl, Los Angeles, CA 90047, USA</td>\n",
       "      <td>City of LA Recreation Center</td>\n",
       "      <td>la_city_recreation_centers</td>\n",
       "      <td>POINT (-118.31148 33.95909)</td>\n",
       "    </tr>\n",
       "  </tbody>\n",
       "</table>\n",
       "<p>268 rows × 4 columns</p>\n",
       "</div>"
      ],
      "text/plain": [
       "                                            match_addr  \\\n",
       "0       3916 S Western Ave, Los Angeles, CA 90062, USA   \n",
       "1        1450 N Avalon Blvd, Wilmington, CA 90744, USA   \n",
       "2       3250 San Marino St, Los Angeles, CA 90006, USA   \n",
       "3               769 W 3rd St, San Pedro, CA 90731, USA   \n",
       "4          1020 Fair Oaks Ave, Pasadena, CA 91103, USA   \n",
       "..                                                 ...   \n",
       "263   8600 Hazeltine Ave, Panorama City, CA 91402, USA   \n",
       "264       7807 Compton Ave, Los Angeles, CA 90001, USA   \n",
       "265  1320 Highland Ave, Manhattan Beach, CA 90266, USA   \n",
       "266     14400 Paramount Blvd, Paramount, CA 90723, USA   \n",
       "267   8701 S St Andrews Pl, Los Angeles, CA 90047, USA   \n",
       "\n",
       "                         category                       layer  \\\n",
       "0    City of LA Recreation Center  la_city_recreation_centers   \n",
       "1                 City of LA Pool    la_city_year-round_pools   \n",
       "2    City of LA Recreation Center  la_city_recreation_centers   \n",
       "3        LA County Cooling Center              coolingcenters   \n",
       "4        LA County Cooling Center              coolingcenters   \n",
       "..                            ...                         ...   \n",
       "263  City of LA Recreation Center  la_city_recreation_centers   \n",
       "264      LA County Cooling Center              coolingcenters   \n",
       "265      LA County Cooling Center              coolingcenters   \n",
       "266      LA County Cooling Center              coolingcenters   \n",
       "267  City of LA Recreation Center  la_city_recreation_centers   \n",
       "\n",
       "                        geometry  \n",
       "0    POINT (-118.30855 34.01392)  \n",
       "1    POINT (-118.26251 33.79271)  \n",
       "2    POINT (-118.30176 34.05421)  \n",
       "3    POINT (-118.29380 33.74126)  \n",
       "4    POINT (-118.15025 34.16364)  \n",
       "..                           ...  \n",
       "263  POINT (-118.44169 34.22748)  \n",
       "264  POINT (-118.24800 33.96781)  \n",
       "265  POINT (-118.41038 33.88690)  \n",
       "266  POINT (-118.15798 33.90123)  \n",
       "267  POINT (-118.31148 33.95909)  \n",
       "\n",
       "[268 rows x 4 columns]"
      ]
     },
     "execution_count": 36,
     "metadata": {},
     "output_type": "execute_result"
    }
   ],
   "source": [
    "desired_columns = ['match_addr','category','layer','geometry']\n",
    "cooling_centers_2019[desired_columns]"
   ]
  },
  {
   "cell_type": "code",
   "execution_count": 37,
   "id": "16e171d6-8419-4108-86af-2872dd0e691b",
   "metadata": {},
   "outputs": [],
   "source": [
    "# Step 12: Figuring out and trimming those who are only labeled as cooling centers by the county. But first, let's make a copy. "
   ]
  },
  {
   "cell_type": "code",
   "execution_count": 38,
   "id": "7a5b5f69-462c-4c9b-b1ab-e36e26462b78",
   "metadata": {},
   "outputs": [
    {
     "data": {
      "text/html": [
       "<div>\n",
       "<style scoped>\n",
       "    .dataframe tbody tr th:only-of-type {\n",
       "        vertical-align: middle;\n",
       "    }\n",
       "\n",
       "    .dataframe tbody tr th {\n",
       "        vertical-align: top;\n",
       "    }\n",
       "\n",
       "    .dataframe thead th {\n",
       "        text-align: right;\n",
       "    }\n",
       "</style>\n",
       "<table border=\"1\" class=\"dataframe\">\n",
       "  <thead>\n",
       "    <tr style=\"text-align: right;\">\n",
       "      <th></th>\n",
       "      <th>match_addr</th>\n",
       "      <th>category</th>\n",
       "      <th>layer</th>\n",
       "      <th>geometry</th>\n",
       "    </tr>\n",
       "  </thead>\n",
       "  <tbody>\n",
       "    <tr>\n",
       "      <th>0</th>\n",
       "      <td>3916 S Western Ave, Los Angeles, CA 90062, USA</td>\n",
       "      <td>City of LA Recreation Center</td>\n",
       "      <td>la_city_recreation_centers</td>\n",
       "      <td>POINT (-118.30855 34.01392)</td>\n",
       "    </tr>\n",
       "    <tr>\n",
       "      <th>1</th>\n",
       "      <td>1450 N Avalon Blvd, Wilmington, CA 90744, USA</td>\n",
       "      <td>City of LA Pool</td>\n",
       "      <td>la_city_year-round_pools</td>\n",
       "      <td>POINT (-118.26251 33.79271)</td>\n",
       "    </tr>\n",
       "    <tr>\n",
       "      <th>2</th>\n",
       "      <td>3250 San Marino St, Los Angeles, CA 90006, USA</td>\n",
       "      <td>City of LA Recreation Center</td>\n",
       "      <td>la_city_recreation_centers</td>\n",
       "      <td>POINT (-118.30176 34.05421)</td>\n",
       "    </tr>\n",
       "    <tr>\n",
       "      <th>3</th>\n",
       "      <td>769 W 3rd St, San Pedro, CA 90731, USA</td>\n",
       "      <td>LA County Cooling Center</td>\n",
       "      <td>coolingcenters</td>\n",
       "      <td>POINT (-118.29380 33.74126)</td>\n",
       "    </tr>\n",
       "    <tr>\n",
       "      <th>4</th>\n",
       "      <td>1020 Fair Oaks Ave, Pasadena, CA 91103, USA</td>\n",
       "      <td>LA County Cooling Center</td>\n",
       "      <td>coolingcenters</td>\n",
       "      <td>POINT (-118.15025 34.16364)</td>\n",
       "    </tr>\n",
       "    <tr>\n",
       "      <th>...</th>\n",
       "      <td>...</td>\n",
       "      <td>...</td>\n",
       "      <td>...</td>\n",
       "      <td>...</td>\n",
       "    </tr>\n",
       "    <tr>\n",
       "      <th>263</th>\n",
       "      <td>8600 Hazeltine Ave, Panorama City, CA 91402, USA</td>\n",
       "      <td>City of LA Recreation Center</td>\n",
       "      <td>la_city_recreation_centers</td>\n",
       "      <td>POINT (-118.44169 34.22748)</td>\n",
       "    </tr>\n",
       "    <tr>\n",
       "      <th>264</th>\n",
       "      <td>7807 Compton Ave, Los Angeles, CA 90001, USA</td>\n",
       "      <td>LA County Cooling Center</td>\n",
       "      <td>coolingcenters</td>\n",
       "      <td>POINT (-118.24800 33.96781)</td>\n",
       "    </tr>\n",
       "    <tr>\n",
       "      <th>265</th>\n",
       "      <td>1320 Highland Ave, Manhattan Beach, CA 90266, USA</td>\n",
       "      <td>LA County Cooling Center</td>\n",
       "      <td>coolingcenters</td>\n",
       "      <td>POINT (-118.41038 33.88690)</td>\n",
       "    </tr>\n",
       "    <tr>\n",
       "      <th>266</th>\n",
       "      <td>14400 Paramount Blvd, Paramount, CA 90723, USA</td>\n",
       "      <td>LA County Cooling Center</td>\n",
       "      <td>coolingcenters</td>\n",
       "      <td>POINT (-118.15798 33.90123)</td>\n",
       "    </tr>\n",
       "    <tr>\n",
       "      <th>267</th>\n",
       "      <td>8701 S St Andrews Pl, Los Angeles, CA 90047, USA</td>\n",
       "      <td>City of LA Recreation Center</td>\n",
       "      <td>la_city_recreation_centers</td>\n",
       "      <td>POINT (-118.31148 33.95909)</td>\n",
       "    </tr>\n",
       "  </tbody>\n",
       "</table>\n",
       "<p>268 rows × 4 columns</p>\n",
       "</div>"
      ],
      "text/plain": [
       "                                            match_addr  \\\n",
       "0       3916 S Western Ave, Los Angeles, CA 90062, USA   \n",
       "1        1450 N Avalon Blvd, Wilmington, CA 90744, USA   \n",
       "2       3250 San Marino St, Los Angeles, CA 90006, USA   \n",
       "3               769 W 3rd St, San Pedro, CA 90731, USA   \n",
       "4          1020 Fair Oaks Ave, Pasadena, CA 91103, USA   \n",
       "..                                                 ...   \n",
       "263   8600 Hazeltine Ave, Panorama City, CA 91402, USA   \n",
       "264       7807 Compton Ave, Los Angeles, CA 90001, USA   \n",
       "265  1320 Highland Ave, Manhattan Beach, CA 90266, USA   \n",
       "266     14400 Paramount Blvd, Paramount, CA 90723, USA   \n",
       "267   8701 S St Andrews Pl, Los Angeles, CA 90047, USA   \n",
       "\n",
       "                         category                       layer  \\\n",
       "0    City of LA Recreation Center  la_city_recreation_centers   \n",
       "1                 City of LA Pool    la_city_year-round_pools   \n",
       "2    City of LA Recreation Center  la_city_recreation_centers   \n",
       "3        LA County Cooling Center              coolingcenters   \n",
       "4        LA County Cooling Center              coolingcenters   \n",
       "..                            ...                         ...   \n",
       "263  City of LA Recreation Center  la_city_recreation_centers   \n",
       "264      LA County Cooling Center              coolingcenters   \n",
       "265      LA County Cooling Center              coolingcenters   \n",
       "266      LA County Cooling Center              coolingcenters   \n",
       "267  City of LA Recreation Center  la_city_recreation_centers   \n",
       "\n",
       "                        geometry  \n",
       "0    POINT (-118.30855 34.01392)  \n",
       "1    POINT (-118.26251 33.79271)  \n",
       "2    POINT (-118.30176 34.05421)  \n",
       "3    POINT (-118.29380 33.74126)  \n",
       "4    POINT (-118.15025 34.16364)  \n",
       "..                           ...  \n",
       "263  POINT (-118.44169 34.22748)  \n",
       "264  POINT (-118.24800 33.96781)  \n",
       "265  POINT (-118.41038 33.88690)  \n",
       "266  POINT (-118.15798 33.90123)  \n",
       "267  POINT (-118.31148 33.95909)  \n",
       "\n",
       "[268 rows x 4 columns]"
      ]
     },
     "execution_count": 38,
     "metadata": {},
     "output_type": "execute_result"
    }
   ],
   "source": [
    "hin_trimmed = cooling_centers_2019[desired_columns].copy()\n",
    "hin_trimmed"
   ]
  },
  {
   "cell_type": "code",
   "execution_count": 40,
   "id": "2beda293-695a-4a97-ae4f-c964e25cdc92",
   "metadata": {},
   "outputs": [
    {
     "data": {
      "text/html": [
       "<div>\n",
       "<style scoped>\n",
       "    .dataframe tbody tr th:only-of-type {\n",
       "        vertical-align: middle;\n",
       "    }\n",
       "\n",
       "    .dataframe tbody tr th {\n",
       "        vertical-align: top;\n",
       "    }\n",
       "\n",
       "    .dataframe thead th {\n",
       "        text-align: right;\n",
       "    }\n",
       "</style>\n",
       "<table border=\"1\" class=\"dataframe\">\n",
       "  <thead>\n",
       "    <tr style=\"text-align: right;\">\n",
       "      <th></th>\n",
       "      <th>match_addr</th>\n",
       "      <th>category</th>\n",
       "      <th>layer</th>\n",
       "      <th>geometry</th>\n",
       "    </tr>\n",
       "  </thead>\n",
       "  <tbody>\n",
       "    <tr>\n",
       "      <th>3</th>\n",
       "      <td>769 W 3rd St, San Pedro, CA 90731, USA</td>\n",
       "      <td>LA County Cooling Center</td>\n",
       "      <td>coolingcenters</td>\n",
       "      <td>POINT (-118.29380 33.74126)</td>\n",
       "    </tr>\n",
       "    <tr>\n",
       "      <th>4</th>\n",
       "      <td>1020 Fair Oaks Ave, Pasadena, CA 91103, USA</td>\n",
       "      <td>LA County Cooling Center</td>\n",
       "      <td>coolingcenters</td>\n",
       "      <td>POINT (-118.15025 34.16364)</td>\n",
       "    </tr>\n",
       "    <tr>\n",
       "      <th>7</th>\n",
       "      <td>1700 Danbury Rd, Claremont, CA 91711, USA</td>\n",
       "      <td>LA County Cooling Center</td>\n",
       "      <td>coolingcenters</td>\n",
       "      <td>POINT (-117.73321 34.11542)</td>\n",
       "    </tr>\n",
       "    <tr>\n",
       "      <th>9</th>\n",
       "      <td>3864 Whittier Blvd, Los Angeles, CA 90023, USA</td>\n",
       "      <td>LA County Cooling Center</td>\n",
       "      <td>coolingcenters</td>\n",
       "      <td>POINT (-118.19023 34.02310)</td>\n",
       "    </tr>\n",
       "    <tr>\n",
       "      <th>12</th>\n",
       "      <td>208 Park Ave, San Fernando, CA 91340, USA</td>\n",
       "      <td>LA County Cooling Center</td>\n",
       "      <td>coolingcenters</td>\n",
       "      <td>POINT (-118.43397 34.28094)</td>\n",
       "    </tr>\n",
       "    <tr>\n",
       "      <th>...</th>\n",
       "      <td>...</td>\n",
       "      <td>...</td>\n",
       "      <td>...</td>\n",
       "      <td>...</td>\n",
       "    </tr>\n",
       "    <tr>\n",
       "      <th>260</th>\n",
       "      <td>1556 Central Ave, South El Monte, CA 91733, USA</td>\n",
       "      <td>LA County Cooling Center</td>\n",
       "      <td>coolingcenters</td>\n",
       "      <td>POINT (-118.04657 34.04692)</td>\n",
       "    </tr>\n",
       "    <tr>\n",
       "      <th>261</th>\n",
       "      <td>400 W Emerson Ave, Monterey Park, CA 91754, USA</td>\n",
       "      <td>LA County Cooling Center</td>\n",
       "      <td>coolingcenters</td>\n",
       "      <td>POINT (-118.12809 34.06571)</td>\n",
       "    </tr>\n",
       "    <tr>\n",
       "      <th>264</th>\n",
       "      <td>7807 Compton Ave, Los Angeles, CA 90001, USA</td>\n",
       "      <td>LA County Cooling Center</td>\n",
       "      <td>coolingcenters</td>\n",
       "      <td>POINT (-118.24800 33.96781)</td>\n",
       "    </tr>\n",
       "    <tr>\n",
       "      <th>265</th>\n",
       "      <td>1320 Highland Ave, Manhattan Beach, CA 90266, USA</td>\n",
       "      <td>LA County Cooling Center</td>\n",
       "      <td>coolingcenters</td>\n",
       "      <td>POINT (-118.41038 33.88690)</td>\n",
       "    </tr>\n",
       "    <tr>\n",
       "      <th>266</th>\n",
       "      <td>14400 Paramount Blvd, Paramount, CA 90723, USA</td>\n",
       "      <td>LA County Cooling Center</td>\n",
       "      <td>coolingcenters</td>\n",
       "      <td>POINT (-118.15798 33.90123)</td>\n",
       "    </tr>\n",
       "  </tbody>\n",
       "</table>\n",
       "<p>113 rows × 4 columns</p>\n",
       "</div>"
      ],
      "text/plain": [
       "                                            match_addr  \\\n",
       "3               769 W 3rd St, San Pedro, CA 90731, USA   \n",
       "4          1020 Fair Oaks Ave, Pasadena, CA 91103, USA   \n",
       "7            1700 Danbury Rd, Claremont, CA 91711, USA   \n",
       "9       3864 Whittier Blvd, Los Angeles, CA 90023, USA   \n",
       "12           208 Park Ave, San Fernando, CA 91340, USA   \n",
       "..                                                 ...   \n",
       "260    1556 Central Ave, South El Monte, CA 91733, USA   \n",
       "261    400 W Emerson Ave, Monterey Park, CA 91754, USA   \n",
       "264       7807 Compton Ave, Los Angeles, CA 90001, USA   \n",
       "265  1320 Highland Ave, Manhattan Beach, CA 90266, USA   \n",
       "266     14400 Paramount Blvd, Paramount, CA 90723, USA   \n",
       "\n",
       "                     category           layer                     geometry  \n",
       "3    LA County Cooling Center  coolingcenters  POINT (-118.29380 33.74126)  \n",
       "4    LA County Cooling Center  coolingcenters  POINT (-118.15025 34.16364)  \n",
       "7    LA County Cooling Center  coolingcenters  POINT (-117.73321 34.11542)  \n",
       "9    LA County Cooling Center  coolingcenters  POINT (-118.19023 34.02310)  \n",
       "12   LA County Cooling Center  coolingcenters  POINT (-118.43397 34.28094)  \n",
       "..                        ...             ...                          ...  \n",
       "260  LA County Cooling Center  coolingcenters  POINT (-118.04657 34.04692)  \n",
       "261  LA County Cooling Center  coolingcenters  POINT (-118.12809 34.06571)  \n",
       "264  LA County Cooling Center  coolingcenters  POINT (-118.24800 33.96781)  \n",
       "265  LA County Cooling Center  coolingcenters  POINT (-118.41038 33.88690)  \n",
       "266  LA County Cooling Center  coolingcenters  POINT (-118.15798 33.90123)  \n",
       "\n",
       "[113 rows x 4 columns]"
      ]
     },
     "execution_count": 40,
     "metadata": {},
     "output_type": "execute_result"
    }
   ],
   "source": [
    "hin_trimmed[hin_trimmed.category == 'LA County Cooling Center']"
   ]
  },
  {
   "cell_type": "code",
   "execution_count": null,
   "id": "bddc9f97-2196-4f59-9ef8-1dffcabe5131",
   "metadata": {},
   "outputs": [],
   "source": [
    "# This showed me that it eliminated half of "
   ]
  }
 ],
 "metadata": {
  "kernelspec": {
   "display_name": "Python 3 (ipykernel)",
   "language": "python",
   "name": "python3"
  },
  "language_info": {
   "codemirror_mode": {
    "name": "ipython",
    "version": 3
   },
   "file_extension": ".py",
   "mimetype": "text/x-python",
   "name": "python",
   "nbconvert_exporter": "python",
   "pygments_lexer": "ipython3",
   "version": "3.9.6"
  }
 },
 "nbformat": 4,
 "nbformat_minor": 5
}
